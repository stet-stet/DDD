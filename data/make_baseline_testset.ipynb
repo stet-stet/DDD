{
 "cells": [
  {
   "cell_type": "code",
   "execution_count": 1,
   "metadata": {},
   "outputs": [],
   "source": [
    "import sys \n",
    "import os \n",
    "import numpy as np\n",
    "import soundfile as sf"
   ]
  },
  {
   "cell_type": "code",
   "execution_count": 2,
   "metadata": {},
   "outputs": [],
   "source": [
    "def clip(data, thres):\n",
    "    return np.maximum(np.minimum(thres,data),-thres)\n",
    "\n",
    "def coclip(data,thres):\n",
    "    return data - clip(data,thres)\n",
    "\n",
    "def normsq(data):\n",
    "    return np.sum(data*data)\n",
    "\n",
    "def snr(data, thres):\n",
    "    # print(normsq(data),normsq(coclip(data,thres)))\n",
    "    return 10 * np.log10( normsq(data) / (normsq(coclip(data,thres))+1e-7) )\n",
    "\n",
    "def determine_threshold(data,target_snr):\n",
    "    low=0.0\n",
    "    high=0.999\n",
    "    mid = (low+high)/2\n",
    "    current_snr = snr(data, mid)\n",
    "    while np.abs(target_snr - current_snr) > 1e-4:\n",
    "        if current_snr < target_snr:\n",
    "            low = mid\n",
    "        else:\n",
    "            high = mid\n",
    "        mid = (low+high)/2\n",
    "        current_snr = snr(data,mid)\n",
    "    return mid"
   ]
  },
  {
   "cell_type": "code",
   "execution_count": 9,
   "metadata": {},
   "outputs": [
    {
     "name": "stderr",
     "output_type": "stream",
     "text": [
      "824it [00:10, 79.28it/s]\n"
     ]
    }
   ],
   "source": [
    "\n",
    "orig_folder = f\"clean_testset_wav\"\n",
    "dest_folder = f\"16384_clean_testset\"\n",
    "os.makedirs(dest_folder, exist_ok=True)\n",
    "filelist = os.listdir(orig_folder)\n",
    "source_filelist = [f\"{orig_folder}/{file}\" for file in filelist]\n",
    "dest_filelist = [f\"{dest_folder}/{file}\" for file in filelist]\n",
    "for source, dest in tqdm(zip(source_filelist,dest_filelist)):\n",
    "    y, sr = sf.read(source)\n",
    "    target_len = ( (len(y)-1)//16384 + 1 ) * 16384\n",
    "    y = np.pad(y, (0,target_len-len(y)), 'constant', constant_values = (0,0))\n",
    "    sf.write(dest,y,sr)"
   ]
  },
  {
   "cell_type": "code",
   "execution_count": null,
   "metadata": {},
   "outputs": [],
   "source": [
    "# same here.\n",
    "from tqdm import tqdm \n",
    "for db in [1,3,7,15]:\n",
    "    orig_folder = f\"dns/set_{db}\"\n",
    "    dest_folder = f\"dns/16384_set_{db}\"\n",
    "    os.makedirs(dest_folder, exist_ok=True)\n",
    "    filelist = os.listdir(orig_folder)\n",
    "    source_filelist = [f\"{orig_folder}/{file}\" for file in filelist]\n",
    "    dest_filelist = [f\"{dest_folder}/{file}\" for file in filelist]\n",
    "    for source, dest in tqdm(zip(source_filelist,dest_filelist)):\n",
    "        y, sr = sf.read(source)\n",
    "        target_len = ( (len(y)-1)//16384 + 1 ) * 16384\n",
    "        y = np.pad(y, (0,target_len-len(y)), 'constant', constant_values = (0,0))\n",
    "        sf.write(dest,y,sr)\n"
   ]
  }
 ],
 "metadata": {
  "kernelspec": {
   "display_name": "declipper",
   "language": "python",
   "name": "python3"
  },
  "language_info": {
   "codemirror_mode": {
    "name": "ipython",
    "version": 3
   },
   "file_extension": ".py",
   "mimetype": "text/x-python",
   "name": "python",
   "nbconvert_exporter": "python",
   "pygments_lexer": "ipython3",
   "version": "3.8.16"
  },
  "orig_nbformat": 4,
  "vscode": {
   "interpreter": {
    "hash": "d7b6fd9649e42b7f2dfc0c5225912d080b8adb9dad89857c6cd56915d0393283"
   }
  }
 },
 "nbformat": 4,
 "nbformat_minor": 2
}
