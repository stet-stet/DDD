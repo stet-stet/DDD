{
 "cells": [
  {
   "cell_type": "code",
   "execution_count": 1,
   "metadata": {},
   "outputs": [],
   "source": [
    "import json\n",
    "import shutil\n",
    "from tqdm import tqdm\n",
    "import soundfile as sf\n",
    "import json\n",
    "import numpy as np\n",
    "\n",
    "def clip(data, thres):\n",
    "    return np.maximum(np.minimum(thres,data),-thres)\n",
    "\n",
    "def coclip(data,thres):\n",
    "    return data - clip(data,thres)\n",
    "\n",
    "def normsq(data):\n",
    "    return np.sum(data*data)\n",
    "\n",
    "def snr(data, thres):\n",
    "    # print(normsq(data),normsq(coclip(data,thres)))\n",
    "    return 10 * np.log10( normsq(data) / (normsq(coclip(data,thres))+1e-7) )\n",
    "\n",
    "def determine_threshold(data,target_snr):\n",
    "    low=0.0\n",
    "    high=0.999\n",
    "    mid = (low+high)/2\n",
    "    current_snr = snr(data, mid)\n",
    "    while np.abs(target_snr - current_snr) > 1e-4:\n",
    "        if current_snr < target_snr:\n",
    "            low = mid\n",
    "        else:\n",
    "            high = mid\n",
    "        mid = (low+high)/2\n",
    "        current_snr = snr(data,mid)\n",
    "    return mid\n",
    "\n",
    "snrs=[1,3,5,7,10,15,20]"
   ]
  },
  {
   "cell_type": "code",
   "execution_count": 3,
   "metadata": {},
   "outputs": [
    {
     "name": "stderr",
     "output_type": "stream",
     "text": [
      "100%|██████████| 150/150 [00:02<00:00, 62.24it/s]\n"
     ]
    }
   ],
   "source": [
    "import librosa\n",
    "import os\n",
    "for root, dirs, files in os.walk(\"set\"):\n",
    "  for file in tqdm(files):\n",
    "    if file.endswith(\".wav\"):\n",
    "      the_file = f\"{root}/{file}\"\n",
    "      y, s = librosa.load(the_file, sr=16000)\n",
    "      sf.write(the_file, y, 16000)"
   ]
  },
  {
   "cell_type": "code",
   "execution_count": 2,
   "metadata": {},
   "outputs": [
    {
     "name": "stderr",
     "output_type": "stream",
     "text": [
      "100%|██████████| 150/150 [00:10<00:00, 14.34it/s]\n"
     ]
    }
   ],
   "source": [
    "import os \n",
    "from tqdm import tqdm \n",
    "for db in snrs:\n",
    "    os.makedirs(f\"set_{db}\",exist_ok=True)\n",
    "\n",
    "files = os.listdir(\"set\")\n",
    "for file in tqdm(files):\n",
    "    y, sr = sf.read(f\"set/{file}\")\n",
    "    for db in snrs:\n",
    "        thres = determine_threshold(y, db)\n",
    "        sf.write(f\"set_{db}/{file}\",clip(y,thres),sr)"
   ]
  }
 ],
 "metadata": {
  "kernelspec": {
   "display_name": "declipper",
   "language": "python",
   "name": "python3"
  },
  "language_info": {
   "codemirror_mode": {
    "name": "ipython",
    "version": 3
   },
   "file_extension": ".py",
   "mimetype": "text/x-python",
   "name": "python",
   "nbconvert_exporter": "python",
   "pygments_lexer": "ipython3",
   "version": "3.8.16"
  },
  "orig_nbformat": 4,
  "vscode": {
   "interpreter": {
    "hash": "d7b6fd9649e42b7f2dfc0c5225912d080b8adb9dad89857c6cd56915d0393283"
   }
  }
 },
 "nbformat": 4,
 "nbformat_minor": 2
}
